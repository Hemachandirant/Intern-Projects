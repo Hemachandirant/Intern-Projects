{
 "cells": [
  {
   "cell_type": "code",
   "execution_count": 1,
   "metadata": {},
   "outputs": [
    {
     "name": "stderr",
     "output_type": "stream",
     "text": [
      "[nltk_data] Downloading package punkt to\n",
      "[nltk_data]     C:\\Users\\deekshitha\\AppData\\Roaming\\nltk_data...\n",
      "[nltk_data]   Package punkt is already up-to-date!\n",
      "[nltk_data] Downloading package averaged_perceptron_tagger to\n",
      "[nltk_data]     C:\\Users\\deekshitha\\AppData\\Roaming\\nltk_data...\n",
      "[nltk_data]   Package averaged_perceptron_tagger is already up-to-\n",
      "[nltk_data]       date!\n",
      "[nltk_data] Downloading package stopwords to\n",
      "[nltk_data]     C:\\Users\\deekshitha\\AppData\\Roaming\\nltk_data...\n",
      "[nltk_data]   Package stopwords is already up-to-date!\n",
      "[nltk_data] Downloading package wordnet to\n",
      "[nltk_data]     C:\\Users\\deekshitha\\AppData\\Roaming\\nltk_data...\n",
      "[nltk_data]   Package wordnet is already up-to-date!\n",
      "[nltk_data] Downloading package maxent_ne_chunker to\n",
      "[nltk_data]     C:\\Users\\deekshitha\\AppData\\Roaming\\nltk_data...\n",
      "[nltk_data]   Package maxent_ne_chunker is already up-to-date!\n",
      "[nltk_data] Downloading package words to\n",
      "[nltk_data]     C:\\Users\\deekshitha\\AppData\\Roaming\\nltk_data...\n",
      "[nltk_data]   Package words is already up-to-date!\n",
      "[nltk_data] Downloading package omw to\n",
      "[nltk_data]     C:\\Users\\deekshitha\\AppData\\Roaming\\nltk_data...\n",
      "[nltk_data]   Package omw is already up-to-date!\n"
     ]
    },
    {
     "name": "stdout",
     "output_type": "stream",
     "text": [
      "hlo\n"
     ]
    }
   ],
   "source": [
    "#import all the required libraries\n",
    "#Use TfidfVectorizer from the Scikit-learn package\n",
    "#!pip install sklearn-recommender\n",
    "#!pip install sklearn-evaluation\n",
    "#!pip install black\n",
    "import pandas as pd\n",
    "import sklearn\n",
    "from sklearn.model_selection import train_test_split\n",
    "import numpy as np\n",
    "import time\n",
    "import joblib\n",
    "import sklearn_recommender as recommenders\n",
    "import sklearn_evaluation as evaluation\n"
   ]
  },
  {
   "cell_type": "code",
   "execution_count": 2,
   "metadata": {},
   "outputs": [
    {
     "name": "stdout",
     "output_type": "stream",
     "text": [
      "2000000\n",
      "1000000\n"
     ]
    },
    {
     "data": {
      "text/plain": [
       "2000000"
      ]
     },
     "execution_count": 2,
     "metadata": {},
     "output_type": "execute_result"
    }
   ],
   "source": [
    "##collecting the datasets and merging both million_song and song_data\n",
    "song_df_1=pd.read_table(\"million_song.txt\",header=None)\n",
    "song_df_1.columns=['user_id','song_id','listen_count']\n",
    "song_df_2=pd.read_csv(\"song_data.csv\")\n",
    "#song_df_1.head()\n",
    "#song_df_2.head()\n",
    "song_df=pd.merge(song_df_1, song_df_2.drop_duplicates(['song_id']), on=\"song_id\", how=\"left\")\n",
    "#song_df.head()\n",
    "print(len(song_df_1))\n",
    "print(len(song_df_2))\n",
    "len(song_df)"
   ]
  },
  {
   "cell_type": "code",
   "execution_count": 3,
   "metadata": {},
   "outputs": [],
   "source": [
    "song_df['song'] = song_df['title'].map(str) + \" - \" + song_df['artist_name']"
   ]
  },
  {
   "cell_type": "code",
   "execution_count": 4,
   "metadata": {},
   "outputs": [
    {
     "name": "stdout",
     "output_type": "stream",
     "text": [
      "3375\n"
     ]
    }
   ],
   "source": [
    "#this gives us the number of unique artists present\n",
    "unique_artists=song_df['artist_name'].unique()\n",
    "print(len(unique_artists))"
   ]
  },
  {
   "cell_type": "code",
   "execution_count": 5,
   "metadata": {},
   "outputs": [],
   "source": [
    "import pandas as pd\n",
    "from sklearn.feature_extraction.text import TfidfVectorizer"
   ]
  },
  {
   "cell_type": "code",
   "execution_count": 6,
   "metadata": {},
   "outputs": [],
   "source": [
    "#Because of the dataset being so big, we are going to resample only 5000 random songs.\n",
    "song_df = song_df.sample(n=1000).drop('title', axis=1).reset_index(drop=True)\n",
    "#song_df['artist_name'] = song_df['artist_name'].str.replace(r'\\n', '')\n",
    "#we use TF-IDF vectorizer that calculates the TF-IDF score for each song lyric, word-by-word. \n",
    "tfidf = TfidfVectorizer(analyzer='word', stop_words='english')\n",
    "tfidf_matrix = tfidf.fit_transform(song_df['artist_name'])"
   ]
  },
  {
   "cell_type": "code",
   "execution_count": 7,
   "metadata": {},
   "outputs": [],
   "source": [
    "#We now need to calculate the similarity of one lyric to another. We are going to use cosine similarity.\n",
    "#We want to calculate the cosine similarity of each item with every other item in the dataset. So we just pass the tfidf_matrix as argument.\n",
    "from sklearn.metrics.pairwise import cosine_similarity\n",
    "cosine_similarities = cosine_similarity(tfidf_matrix) \n",
    "\n",
    "similarities = {}\n",
    "for i in range(len(cosine_similarities)):\n",
    "     ## Now we'll sort each element in cosine_similarities and get the indexes of the songs.\n",
    "    similar_indices = cosine_similarities[i].argsort()[:-50:-1] \n",
    "    # After that, we'll store in similarities each name of the 50 most similar songs.\n",
    "    # Except the first one that is the same song.\n",
    "    similarities[song_df['song'].iloc[i]] = [(cosine_similarities[i][x], song_df['song'][x], \n",
    "                                           song_df['artist_name'][x]) for x in similar_indices][1:]"
   ]
  },
  {
   "cell_type": "code",
   "execution_count": 8,
   "metadata": {},
   "outputs": [],
   "source": [
    "class ContentBasedRecommender:\n",
    "    def __init__(self, matrix):\n",
    "        self.matrix_similar = matrix\n",
    "    def _print_message(self, song, recom_song):\n",
    "        rec_items = len(recom_song)       \n",
    "        print(f'The {rec_items} recommended songs for {song} are:')\n",
    "        for i in range(rec_items):\n",
    "            print(f\"Number {i+1}:\")\n",
    "            print(f\"{recom_song[i][1]} by {recom_song[i][2]} with {round(recom_song[i][0], 3)} similarity score\") \n",
    "            print(\"--------------------\") \n",
    "    def recommend(self, recommendation):\n",
    "            # Get song to find recommendations for\n",
    "            song = recommendation['song']\n",
    "            # Get number of songs to recommend\n",
    "            number_songs = recommendation['number_songs']\n",
    "            # Get the number of songs most similars from matrix similarities\n",
    "            recom_song = self.matrix_similar[song][:number_songs]\n",
    "            # print each item\n",
    "            self._print_message(song=song, recom_song=recom_song)"
   ]
  },
  {
   "cell_type": "code",
   "execution_count": 9,
   "metadata": {},
   "outputs": [],
   "source": [
    "recommedations = ContentBasedRecommender(similarities)"
   ]
  },
  {
   "cell_type": "code",
   "execution_count": 10,
   "metadata": {},
   "outputs": [],
   "source": [
    "recommendation = {\n",
    "    \"song\": song_df['song'].iloc[100],\n",
    "    \"number_songs\": 7\n",
    "}"
   ]
  },
  {
   "cell_type": "code",
   "execution_count": 11,
   "metadata": {},
   "outputs": [
    {
     "name": "stdout",
     "output_type": "stream",
     "text": [
      "The 7 recommended songs for Check My Brain - Alice In Chains are:\n",
      "Number 1:\n",
      "Shame In You - Alice In Chains by Alice In Chains with 1.0 similarity score\n",
      "--------------------\n",
      "Number 2:\n",
      "Nutshell - Alice In Chains by Alice In Chains with 1.0 similarity score\n",
      "--------------------\n",
      "Number 3:\n",
      "Decisiones - Ruben Blades by Ruben Blades with 0.0 similarity score\n",
      "--------------------\n",
      "Number 4:\n",
      "Patience - Guns N' Roses by Guns N' Roses with 0.0 similarity score\n",
      "--------------------\n",
      "Number 5:\n",
      "When You Say Nothing At All - Alison Krauss by Alison Krauss with 0.0 similarity score\n",
      "--------------------\n",
      "Number 6:\n",
      "Bleed It Out [Live At Milton Keynes] - Linkin Park by Linkin Park with 0.0 similarity score\n",
      "--------------------\n",
      "Number 7:\n",
      "Shook Ones pt. 2 - Mobb Deep by Mobb Deep with 0.0 similarity score\n",
      "--------------------\n"
     ]
    }
   ],
   "source": [
    "recommedations.recommend(recommendation)"
   ]
  },
  {
   "cell_type": "code",
   "execution_count": null,
   "metadata": {},
   "outputs": [],
   "source": []
  }
 ],
 "metadata": {
  "kernelspec": {
   "display_name": "Python 3",
   "language": "python",
   "name": "python3"
  },
  "language_info": {
   "codemirror_mode": {
    "name": "ipython",
    "version": 3
   },
   "file_extension": ".py",
   "mimetype": "text/x-python",
   "name": "python",
   "nbconvert_exporter": "python",
   "pygments_lexer": "ipython3",
   "version": "3.9.4"
  }
 },
 "nbformat": 4,
 "nbformat_minor": 4
}
