{
 "cells": [
  {
   "cell_type": "code",
   "execution_count": 1,
   "metadata": {},
   "outputs": [
    {
     "name": "stdout",
     "output_type": "stream",
     "text": [
      "57650\n"
     ]
    }
   ],
   "source": [
    "#import all the required libraries\n",
    "#Use TfidfVectorizer from the Scikit-learn package\n",
    "import pandas as pd\n",
    "from sklearn.feature_extraction.text import TfidfVectorizer\n",
    "#This dataset contains name, artist, and lyrics for 57650 songs in English.\n",
    "songs = pd.read_csv('abcdata.csv')\n",
    "songs.head()\n",
    "print(len(songs))"
   ]
  },
  {
   "cell_type": "code",
   "execution_count": 2,
   "metadata": {},
   "outputs": [
    {
     "name": "stderr",
     "output_type": "stream",
     "text": [
      "<ipython-input-2-083f768d2c35>:2: FutureWarning: The default value of regex will change from True to False in a future version.\n",
      "  songs['text'] = songs['text'].str.replace(r'\\n', '')\n"
     ]
    }
   ],
   "source": [
    "#Because of the dataset being so big, we are going to resample only 5000 random songs.\n",
    "songs = songs.sample(n=5000).drop('link', axis=1).reset_index(drop=True)\n",
    "songs['text'] = songs['text'].str.replace(r'\\n', '')#We can notice also the presence of \\n in the text, so we are going to remove it.\n",
    "#we use TF-IDF vectorizer that calculates the TF-IDF score for each song lyric, word-by-word. \n",
    "tfidf = TfidfVectorizer(analyzer='word', stop_words='english')\n",
    "tfidf_matrix = tfidf.fit_transform(songs['text'])"
   ]
  },
  {
   "cell_type": "code",
   "execution_count": 3,
   "metadata": {},
   "outputs": [],
   "source": [
    "#We now need to calculate the similarity of one lyric to another. We are going to use cosine similarity.\n",
    "#We want to calculate the cosine similarity of each item with every other item in the dataset. So we just pass the tfidf_matrix as argument.\n",
    "from sklearn.metrics.pairwise import cosine_similarity\n",
    "cosine_similarities = cosine_similarity(tfidf_matrix) \n",
    "\n",
    "similarities = {}\n",
    "for i in range(len(cosine_similarities)):\n",
    "    ## Now we'll sort each element in cosine_similarities and get the indexes of the songs.\n",
    "    similar_indices = cosine_similarities[i].argsort()[:-50:-1] \n",
    "    # After that, we'll store in similarities each name of the 50 most similar songs.\n",
    "    # Except the first one that is the same song.\n",
    "    similarities[songs['song'].iloc[i]] = [(cosine_similarities[i][x], songs['song'][x], \n",
    "                                           songs['artist'][x]) for x in similar_indices][1:]"
   ]
  },
  {
   "cell_type": "code",
   "execution_count": 4,
   "metadata": {},
   "outputs": [
    {
     "data": {
      "text/plain": [
       "(5000, 25287)"
      ]
     },
     "execution_count": 4,
     "metadata": {},
     "output_type": "execute_result"
    }
   ],
   "source": [
    "tfidf_matrix.shape"
   ]
  },
  {
   "cell_type": "code",
   "execution_count": 5,
   "metadata": {},
   "outputs": [
    {
     "data": {
      "text/plain": [
       "(5000, 5000)"
      ]
     },
     "execution_count": 5,
     "metadata": {},
     "output_type": "execute_result"
    }
   ],
   "source": [
    "cosine_similarities.shape"
   ]
  },
  {
   "cell_type": "code",
   "execution_count": 6,
   "metadata": {},
   "outputs": [],
   "source": [
    "class ContentBasedRecommender:\n",
    "    def __init__(self, matrix):\n",
    "        self.matrix_similar = matrix\n",
    "    def _print_message(self, song, recom_song):\n",
    "        rec_items = len(recom_song)       \n",
    "        print(f'The {rec_items} recommended songs for {song} are:')\n",
    "        for i in range(rec_items):\n",
    "            print(f\"Number {i+1}:\")\n",
    "            print(f\"{recom_song[i][1]} by {recom_song[i][2]} with {round(recom_song[i][0], 3)} similarity score\") \n",
    "            print(\"--------------------\") \n",
    "    def recommend(self, recommendation):\n",
    "            # Get song to find recommendations for\n",
    "            song = recommendation['song']\n",
    "            # Get number of songs to recommend\n",
    "            number_songs = recommendation['number_songs']\n",
    "            # Get the number of songs most similars from matrix similarities\n",
    "            recom_song = self.matrix_similar[song][:number_songs]\n",
    "            # print each item\n",
    "            self._print_message(song=song, recom_song=recom_song)"
   ]
  },
  {
   "cell_type": "code",
   "execution_count": 7,
   "metadata": {},
   "outputs": [],
   "source": [
    "recommedations = ContentBasedRecommender(similarities)"
   ]
  },
  {
   "cell_type": "code",
   "execution_count": 8,
   "metadata": {},
   "outputs": [],
   "source": [
    "recommendation = {\n",
    "    \"song\": songs['song'].iloc[120],\n",
    "    \"number_songs\": 15\n",
    "}"
   ]
  },
  {
   "cell_type": "code",
   "execution_count": 9,
   "metadata": {},
   "outputs": [
    {
     "name": "stdout",
     "output_type": "stream",
     "text": [
      "The 15 recommended songs for Speed King are:\n",
      "Number 1:\n",
      "Speed King by Deep Purple with 0.753 similarity score\n",
      "--------------------\n",
      "Number 2:\n",
      "Good Golly Miss Molly by Status Quo with 0.322 similarity score\n",
      "--------------------\n",
      "Number 3:\n",
      "Rockin' In The Free World by Billy Joel with 0.246 similarity score\n",
      "--------------------\n",
      "Number 4:\n",
      "Around And Around by Chuck Berry with 0.224 similarity score\n",
      "--------------------\n",
      "Number 5:\n",
      "Rock Me Baby by Otis Redding with 0.21 similarity score\n",
      "--------------------\n",
      "Number 6:\n",
      "Clock Strikes Ten by Cheap Trick with 0.204 similarity score\n",
      "--------------------\n",
      "Number 7:\n",
      "Around And Around by Bruce Springsteen with 0.203 similarity score\n",
      "--------------------\n",
      "Number 8:\n",
      "Rock 'n' Roll Star by Oasis with 0.188 similarity score\n",
      "--------------------\n",
      "Number 9:\n",
      "You'll Never Find Another Love Like Mine by Michael Buble with 0.181 similarity score\n",
      "--------------------\n",
      "Number 10:\n",
      "Drive by Our Lady Peace with 0.18 similarity score\n",
      "--------------------\n",
      "Number 11:\n",
      "We Rock by Demi Lovato with 0.173 similarity score\n",
      "--------------------\n",
      "Number 12:\n",
      "One Of These Days by Tim McGraw with 0.17 similarity score\n",
      "--------------------\n",
      "Number 13:\n",
      "Rock'n'roll Party by Grease with 0.168 similarity score\n",
      "--------------------\n",
      "Number 14:\n",
      "All The Kings Horses by Nazareth with 0.167 similarity score\n",
      "--------------------\n",
      "Number 15:\n",
      "Roadhouse Blues by Frankie Goes To Hollywood with 0.166 similarity score\n",
      "--------------------\n"
     ]
    }
   ],
   "source": [
    "recommedations.recommend(recommendation)"
   ]
  },
  {
   "cell_type": "code",
   "execution_count": null,
   "metadata": {},
   "outputs": [],
   "source": []
  },
  {
   "cell_type": "code",
   "execution_count": null,
   "metadata": {},
   "outputs": [],
   "source": []
  }
 ],
 "metadata": {
  "kernelspec": {
   "display_name": "Python 3",
   "language": "python",
   "name": "python3"
  },
  "language_info": {
   "codemirror_mode": {
    "name": "ipython",
    "version": 3
   },
   "file_extension": ".py",
   "mimetype": "text/x-python",
   "name": "python",
   "nbconvert_exporter": "python",
   "pygments_lexer": "ipython3",
   "version": "3.9.4"
  }
 },
 "nbformat": 4,
 "nbformat_minor": 4
}
